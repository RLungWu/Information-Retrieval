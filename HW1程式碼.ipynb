{
 "cells": [
  {
   "cell_type": "code",
   "execution_count": 38,
   "id": "ea5d9854-3193-46cd-99ab-f0b1b3ca43c1",
   "metadata": {},
   "outputs": [],
   "source": [
    "import re\n",
    "import numpy as np\n",
    "import pandas as pd"
   ]
  },
  {
   "cell_type": "markdown",
   "id": "9e998690-256a-42cb-9cd1-f23be6cfc055",
   "metadata": {},
   "source": [
    "## 把整段文字檔存進doc裡面"
   ]
  },
  {
   "cell_type": "code",
   "execution_count": 39,
   "id": "cc2b62e4-bee4-4562-bb50-4bc0b18a3b6b",
   "metadata": {},
   "outputs": [],
   "source": [
    "doc = 'And Yugoslav authorities are planning the arrest of eleven coal miners and two opposition politicians on suspicion of sabotage, that\\'s in connection with strike action against President Slobodan Milosevic. You are listening to BBC news for The World.'"
   ]
  },
  {
   "cell_type": "markdown",
   "id": "69cd7c6a-b2cc-4711-a0be-7d8795c08ff0",
   "metadata": {},
   "source": [
    "## 切割文字\n",
    "我選擇把,.'還有空格都當作切割符。這樣我們在處理一些像是that's之類的縮寫就會直接幫我們分成兩個文字。"
   ]
  },
  {
   "cell_type": "code",
   "execution_count": 40,
   "id": "fcc88ab9-e948-4e94-8811-5363b251dd0b",
   "metadata": {},
   "outputs": [
    {
     "data": {
      "text/plain": [
       "['And',\n",
       " 'Yugoslav',\n",
       " 'authorities',\n",
       " 'are',\n",
       " 'planning',\n",
       " 'the',\n",
       " 'arrest',\n",
       " 'of',\n",
       " 'eleven',\n",
       " 'coal',\n",
       " 'miners',\n",
       " 'and',\n",
       " 'two',\n",
       " 'opposition',\n",
       " 'politicians',\n",
       " 'on',\n",
       " 'suspicion',\n",
       " 'of',\n",
       " 'sabotage',\n",
       " 'that',\n",
       " 'in',\n",
       " 'connection',\n",
       " 'with',\n",
       " 'strike',\n",
       " 'action',\n",
       " 'against',\n",
       " 'President',\n",
       " 'Slobodan',\n",
       " 'Milosevic',\n",
       " 'You',\n",
       " 'are',\n",
       " 'listening',\n",
       " 'to',\n",
       " 'BBC',\n",
       " 'news',\n",
       " 'for',\n",
       " 'The',\n",
       " 'World']"
      ]
     },
     "execution_count": 40,
     "metadata": {},
     "output_type": "execute_result"
    }
   ],
   "source": [
    "tok =  re.split('[,.\\' ]', doc)\n",
    "for i in tok:\n",
    "    if i == '':\n",
    "        tok.remove(i)\n",
    "    if len(i) == 1:\n",
    "        tok.remove(i)\n",
    "tok"
   ]
  },
  {
   "cell_type": "markdown",
   "id": "498f03f9-b9dc-4c12-b075-3932d4c40dc3",
   "metadata": {},
   "source": [
    "## 把整段文字轉成小寫"
   ]
  },
  {
   "cell_type": "code",
   "execution_count": 41,
   "id": "6e0b63c9-a549-440e-add6-7d57d7789182",
   "metadata": {},
   "outputs": [
    {
     "data": {
      "text/plain": [
       "['and',\n",
       " 'yugoslav',\n",
       " 'authorities',\n",
       " 'are',\n",
       " 'planning',\n",
       " 'the',\n",
       " 'arrest',\n",
       " 'of',\n",
       " 'eleven',\n",
       " 'coal',\n",
       " 'miners',\n",
       " 'and',\n",
       " 'two',\n",
       " 'opposition',\n",
       " 'politicians',\n",
       " 'on',\n",
       " 'suspicion',\n",
       " 'of',\n",
       " 'sabotage',\n",
       " 'that',\n",
       " 'in',\n",
       " 'connection',\n",
       " 'with',\n",
       " 'strike',\n",
       " 'action',\n",
       " 'against',\n",
       " 'president',\n",
       " 'slobodan',\n",
       " 'milosevic',\n",
       " 'you',\n",
       " 'are',\n",
       " 'listening',\n",
       " 'to',\n",
       " 'bbc',\n",
       " 'news',\n",
       " 'for',\n",
       " 'the',\n",
       " 'world']"
      ]
     },
     "execution_count": 41,
     "metadata": {},
     "output_type": "execute_result"
    }
   ],
   "source": [
    "for i in range(len(tok)):\n",
    "    tok[i] = tok[i].lower()\n",
    "tok"
   ]
  },
  {
   "cell_type": "markdown",
   "id": "3043dafb-df46-4c54-b77d-253ad5951f92",
   "metadata": {},
   "source": [
    "## 處理重複的字串"
   ]
  },
  {
   "cell_type": "code",
   "execution_count": 42,
   "id": "c5e07c89-72fc-4a3c-942f-d020caae9ddb",
   "metadata": {},
   "outputs": [
    {
     "data": {
      "text/plain": [
       "['connection',\n",
       " 'listening',\n",
       " 'eleven',\n",
       " 'you',\n",
       " 'arrest',\n",
       " 'opposition',\n",
       " 'world',\n",
       " 'with',\n",
       " 'planning',\n",
       " 'in',\n",
       " 'slobodan',\n",
       " 'authorities',\n",
       " 'action',\n",
       " 'miners',\n",
       " 'of',\n",
       " 'president',\n",
       " 'are',\n",
       " 'politicians',\n",
       " 'against',\n",
       " 'the',\n",
       " 'yugoslav',\n",
       " 'sabotage',\n",
       " 'bbc',\n",
       " 'coal',\n",
       " 'two',\n",
       " 'news',\n",
       " 'milosevic',\n",
       " 'for',\n",
       " 'that',\n",
       " 'and',\n",
       " 'strike',\n",
       " 'to',\n",
       " 'suspicion',\n",
       " 'on']"
      ]
     },
     "execution_count": 42,
     "metadata": {},
     "output_type": "execute_result"
    }
   ],
   "source": [
    "tok = list(set(tok))\n",
    "tok"
   ]
  },
  {
   "cell_type": "markdown",
   "id": "569484ad-7663-4a99-a7d0-c99b2a6f4c4d",
   "metadata": {},
   "source": [
    "## Porter's algorithm的實作\n",
    "我把s(es, ies)以及(ing)都當作結尾刪除，其餘部分因為我看文本沒有，就先沒有處理。"
   ]
  },
  {
   "cell_type": "code",
   "execution_count": 43,
   "id": "f56d10d4-3446-4e31-90ac-b8746cf3e917",
   "metadata": {},
   "outputs": [],
   "source": [
    "def porteralgm(s):\n",
    "    if s[-1] == 's':\n",
    "        s = s[0:-1]\n",
    "        if s[-1] == 'e':\n",
    "            s = s[0:-1]\n",
    "            if s [-1] == 'i':\n",
    "                s = s[0:-1] + 'y'\n",
    "    #print(s)\n",
    "    \n",
    "    if s[-3::1] == 'ing':\n",
    "        s = s[0:-3]\n",
    "        if s[-1] == s[-2]:\n",
    "            s = s[0:-1]\n",
    "            \n",
    "    return s"
   ]
  },
  {
   "cell_type": "code",
   "execution_count": 44,
   "id": "392c6894-db3f-429f-b628-e1ba631a25f9",
   "metadata": {},
   "outputs": [
    {
     "data": {
      "text/plain": [
       "['action',\n",
       " 'against',\n",
       " 'and',\n",
       " 'are',\n",
       " 'arrest',\n",
       " 'authority',\n",
       " 'bbc',\n",
       " 'coal',\n",
       " 'connection',\n",
       " 'eleven',\n",
       " 'for',\n",
       " 'in',\n",
       " 'listen',\n",
       " 'milosevic',\n",
       " 'miner',\n",
       " 'new',\n",
       " 'of',\n",
       " 'on',\n",
       " 'opposition',\n",
       " 'plan',\n",
       " 'politician',\n",
       " 'president',\n",
       " 'sabotage',\n",
       " 'slobodan',\n",
       " 'strike',\n",
       " 'suspicion',\n",
       " 'that',\n",
       " 'the',\n",
       " 'to',\n",
       " 'two',\n",
       " 'with',\n",
       " 'world',\n",
       " 'you',\n",
       " 'yugoslav']"
      ]
     },
     "execution_count": 44,
     "metadata": {},
     "output_type": "execute_result"
    }
   ],
   "source": [
    "for i in range(len(tok)):\n",
    "    tok[i] = porteralgm(tok[i])\n",
    "tok.sort()\n",
    "tok"
   ]
  },
  {
   "cell_type": "markdown",
   "id": "5b797252-cb40-4454-ada9-ca0aadc28501",
   "metadata": {},
   "source": [
    "## 建立我的stopword"
   ]
  },
  {
   "cell_type": "code",
   "execution_count": 45,
   "id": "7cd8ece5-b9ca-49eb-8b3e-973ef21f37ed",
   "metadata": {},
   "outputs": [
    {
     "data": {
      "text/plain": [
       "['and',\n",
       " 'are',\n",
       " 'for',\n",
       " 'in',\n",
       " 'of',\n",
       " 'of',\n",
       " 'on',\n",
       " 'that',\n",
       " 'the',\n",
       " 'to',\n",
       " 'with',\n",
       " 'you']"
      ]
     },
     "execution_count": 45,
     "metadata": {},
     "output_type": "execute_result"
    }
   ],
   "source": [
    "stopword = ['and', 'are', 'the', 'of', 'on', 'of', 'in', 'that', 'with', 'you', 'to', 'for']\n",
    "stopword.sort()\n",
    "stopword"
   ]
  },
  {
   "cell_type": "markdown",
   "id": "8059b866-f114-46d0-93d2-7887e6422fc1",
   "metadata": {},
   "source": [
    "## 刪除stopword\n",
    "因為stopword字串跟tok字串都有排序過，可以在Linear的時間裡面處理完刪除stopword這件事情。"
   ]
  },
  {
   "cell_type": "code",
   "execution_count": 46,
   "id": "008d2802-f8df-42a8-bc11-e6c1dcc70d95",
   "metadata": {},
   "outputs": [
    {
     "data": {
      "text/plain": [
       "['and', 'are', 'for', 'in', 'of', 'on', 'that', 'the', 'to', 'with', 'you']"
      ]
     },
     "execution_count": 46,
     "metadata": {},
     "output_type": "execute_result"
    }
   ],
   "source": [
    "i = 0\n",
    "j = 0\n",
    "rmv = []\n",
    "while i < len(tok) and j < len(stopword):\n",
    "    #print(i,j)\n",
    "    if tok[i] == stopword[j]:\n",
    "        rmv.append(tok[i])\n",
    "        i += 1\n",
    "        j += 1\n",
    "        continue\n",
    "    if tok[i] < stopword[j]:\n",
    "        i += 1\n",
    "    else:\n",
    "        j += 1\n",
    "\n",
    "for i in rmv:\n",
    "    tok.remove(i)\n",
    "        \n",
    "rmv"
   ]
  },
  {
   "cell_type": "markdown",
   "id": "db678bca-b08a-48d3-b504-b235d5e8e105",
   "metadata": {},
   "source": [
    "## 寫入txt檔之中。"
   ]
  },
  {
   "cell_type": "code",
   "execution_count": 47,
   "id": "c04583f7-281d-4afe-8962-e8e16a798ab4",
   "metadata": {},
   "outputs": [],
   "source": [
    "f = open('output.txt', 'w+')\n",
    "for i in tok:\n",
    "    f.write(i)\n",
    "    f.write('\\n')\n",
    "    #print(i)\n",
    "f.close()"
   ]
  },
  {
   "cell_type": "code",
   "execution_count": 48,
   "id": "04771bbd-7efc-44f5-87f1-9ab1f2994a72",
   "metadata": {},
   "outputs": [
    {
     "data": {
      "text/plain": [
       "'action\\nagainst\\narrest\\nauthority\\nbbc\\ncoal\\nconnection\\neleven\\nlisten\\nmilosevic\\nminer\\nnew\\nopposition\\nplan\\npolitician\\npresident\\nsabotage\\nslobodan\\nstrike\\nsuspicion\\ntwo\\nworld\\nyugoslav\\n'"
      ]
     },
     "execution_count": 48,
     "metadata": {},
     "output_type": "execute_result"
    }
   ],
   "source": [
    "f = open('output.txt', 'r')\n",
    "contents = f.read()\n",
    "contents"
   ]
  },
  {
   "cell_type": "code",
   "execution_count": null,
   "id": "4dba83d3-73a2-481b-bd8f-4214bd8aa63c",
   "metadata": {},
   "outputs": [],
   "source": []
  }
 ],
 "metadata": {
  "kernelspec": {
   "display_name": "Python 3",
   "language": "python",
   "name": "python3"
  },
  "language_info": {
   "codemirror_mode": {
    "name": "ipython",
    "version": 3
   },
   "file_extension": ".py",
   "mimetype": "text/x-python",
   "name": "python",
   "nbconvert_exporter": "python",
   "pygments_lexer": "ipython3",
   "version": "3.9.5"
  }
 },
 "nbformat": 4,
 "nbformat_minor": 5
}
